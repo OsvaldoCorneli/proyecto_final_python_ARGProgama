{
 "cells": [
  {
   "cell_type": "code",
   "execution_count": 5,
   "id": "e8bca56a",
   "metadata": {},
   "outputs": [],
   "source": [
    "#importamos panda como pd , despues usamos la funcion read.csv y copiamos la ruta del archivo csv y lo guardamos en df\n",
    "import pandas as pd\n",
    "df = pd.read_csv(\"C:/Users/BrunoCorneli/Desktop/Programacion/argentina programa phyton/Procesamiento de datos con Python/Proyecto final/Parte 2/Licensed_drivers_By_State.csv\", sep = \",\")"
   ]
  },
  {
   "cell_type": "code",
   "execution_count": 6,
   "id": "3d1511ec",
   "metadata": {},
   "outputs": [
    {
     "data": {
      "text/html": [
       "<div>\n",
       "<style scoped>\n",
       "    .dataframe tbody tr th:only-of-type {\n",
       "        vertical-align: middle;\n",
       "    }\n",
       "\n",
       "    .dataframe tbody tr th {\n",
       "        vertical-align: top;\n",
       "    }\n",
       "\n",
       "    .dataframe thead th {\n",
       "        text-align: right;\n",
       "    }\n",
       "</style>\n",
       "<table border=\"1\" class=\"dataframe\">\n",
       "  <thead>\n",
       "    <tr style=\"text-align: right;\">\n",
       "      <th></th>\n",
       "      <th>Year</th>\n",
       "      <th>Gender</th>\n",
       "      <th>Cohort</th>\n",
       "      <th>State</th>\n",
       "      <th>Drivers</th>\n",
       "    </tr>\n",
       "  </thead>\n",
       "  <tbody>\n",
       "    <tr>\n",
       "      <th>0</th>\n",
       "      <td>2017</td>\n",
       "      <td>Male</td>\n",
       "      <td>Under 16</td>\n",
       "      <td>Alabama</td>\n",
       "      <td>0.0</td>\n",
       "    </tr>\n",
       "    <tr>\n",
       "      <th>1</th>\n",
       "      <td>2017</td>\n",
       "      <td>Male</td>\n",
       "      <td>Under 16</td>\n",
       "      <td>Alaska</td>\n",
       "      <td>0.0</td>\n",
       "    </tr>\n",
       "    <tr>\n",
       "      <th>2</th>\n",
       "      <td>2017</td>\n",
       "      <td>Male</td>\n",
       "      <td>Under 16</td>\n",
       "      <td>Arizona</td>\n",
       "      <td>0.0</td>\n",
       "    </tr>\n",
       "    <tr>\n",
       "      <th>3</th>\n",
       "      <td>2017</td>\n",
       "      <td>Male</td>\n",
       "      <td>Under 16</td>\n",
       "      <td>Arkansas</td>\n",
       "      <td>0.0</td>\n",
       "    </tr>\n",
       "    <tr>\n",
       "      <th>4</th>\n",
       "      <td>2017</td>\n",
       "      <td>Male</td>\n",
       "      <td>Under 16</td>\n",
       "      <td>California</td>\n",
       "      <td>0.0</td>\n",
       "    </tr>\n",
       "  </tbody>\n",
       "</table>\n",
       "</div>"
      ],
      "text/plain": [
       "   Year Gender    Cohort       State  Drivers\n",
       "0  2017   Male  Under 16     Alabama      0.0\n",
       "1  2017   Male  Under 16      Alaska      0.0\n",
       "2  2017   Male  Under 16     Arizona      0.0\n",
       "3  2017   Male  Under 16    Arkansas      0.0\n",
       "4  2017   Male  Under 16  California      0.0"
      ]
     },
     "execution_count": 6,
     "metadata": {},
     "output_type": "execute_result"
    }
   ],
   "source": [
    "#imprimir las primeras filas con la funcion head()\n",
    "df.head()"
   ]
  },
  {
   "cell_type": "code",
   "execution_count": 4,
   "id": "ba456073",
   "metadata": {
    "scrolled": true
   },
   "outputs": [
    {
     "data": {
      "text/html": [
       "<div>\n",
       "<style scoped>\n",
       "    .dataframe tbody tr th:only-of-type {\n",
       "        vertical-align: middle;\n",
       "    }\n",
       "\n",
       "    .dataframe tbody tr th {\n",
       "        vertical-align: top;\n",
       "    }\n",
       "\n",
       "    .dataframe thead th {\n",
       "        text-align: right;\n",
       "    }\n",
       "</style>\n",
       "<table border=\"1\" class=\"dataframe\">\n",
       "  <thead>\n",
       "    <tr style=\"text-align: right;\">\n",
       "      <th></th>\n",
       "      <th>Year</th>\n",
       "      <th>Gender</th>\n",
       "      <th>Cohort</th>\n",
       "      <th>State</th>\n",
       "      <th>Drivers</th>\n",
       "    </tr>\n",
       "  </thead>\n",
       "  <tbody>\n",
       "    <tr>\n",
       "      <th>57829</th>\n",
       "      <td>2018</td>\n",
       "      <td>Female</td>\n",
       "      <td>65-69</td>\n",
       "      <td>Wyoming</td>\n",
       "      <td>16061.0</td>\n",
       "    </tr>\n",
       "    <tr>\n",
       "      <th>57830</th>\n",
       "      <td>2018</td>\n",
       "      <td>Female</td>\n",
       "      <td>70-74</td>\n",
       "      <td>Wyoming</td>\n",
       "      <td>11804.0</td>\n",
       "    </tr>\n",
       "    <tr>\n",
       "      <th>57831</th>\n",
       "      <td>2018</td>\n",
       "      <td>Female</td>\n",
       "      <td>75-79</td>\n",
       "      <td>Wyoming</td>\n",
       "      <td>7770.0</td>\n",
       "    </tr>\n",
       "    <tr>\n",
       "      <th>57832</th>\n",
       "      <td>2018</td>\n",
       "      <td>Female</td>\n",
       "      <td>80-84</td>\n",
       "      <td>Wyoming</td>\n",
       "      <td>4715.0</td>\n",
       "    </tr>\n",
       "    <tr>\n",
       "      <th>57833</th>\n",
       "      <td>2018</td>\n",
       "      <td>Female</td>\n",
       "      <td>85+</td>\n",
       "      <td>Wyoming</td>\n",
       "      <td>3456.0</td>\n",
       "    </tr>\n",
       "  </tbody>\n",
       "</table>\n",
       "</div>"
      ],
      "text/plain": [
       "       Year  Gender Cohort    State  Drivers\n",
       "57829  2018  Female  65-69  Wyoming  16061.0\n",
       "57830  2018  Female  70-74  Wyoming  11804.0\n",
       "57831  2018  Female  75-79  Wyoming   7770.0\n",
       "57832  2018  Female  80-84  Wyoming   4715.0\n",
       "57833  2018  Female    85+  Wyoming   3456.0"
      ]
     },
     "execution_count": 4,
     "metadata": {},
     "output_type": "execute_result"
    }
   ],
   "source": [
    "#imprimir las ultimas filas con la funcion tail()\n",
    "df.tail()"
   ]
  },
  {
   "cell_type": "code",
   "execution_count": 5,
   "id": "3c81c507",
   "metadata": {},
   "outputs": [
    {
     "name": "stdout",
     "output_type": "stream",
     "text": [
      "(57834, 5)\n"
     ]
    }
   ],
   "source": [
    "#imprimir las dimensiones(57834 observaciones y 5 columnas)\n",
    "print(df.shape)"
   ]
  },
  {
   "cell_type": "code",
   "execution_count": 6,
   "id": "1e61e9b7",
   "metadata": {},
   "outputs": [
    {
     "data": {
      "text/plain": [
       "Year       57834\n",
       "Gender     57834\n",
       "Cohort     57834\n",
       "State      57834\n",
       "Drivers    57833\n",
       "dtype: int64"
      ]
     },
     "execution_count": 6,
     "metadata": {},
     "output_type": "execute_result"
    }
   ],
   "source": [
    "#totalidad de registro por columna(unicamente valores missing en Drivers)\n",
    "df.count()"
   ]
  },
  {
   "cell_type": "code",
   "execution_count": 8,
   "id": "336d59ed",
   "metadata": {},
   "outputs": [
    {
     "data": {
      "text/plain": [
       "Year         int64\n",
       "Gender      object\n",
       "Cohort      object\n",
       "State       object\n",
       "Drivers    float64\n",
       "dtype: object"
      ]
     },
     "execution_count": 8,
     "metadata": {},
     "output_type": "execute_result"
    }
   ],
   "source": [
    "#analizar tipo de datos por columna (tenemos enteros,objetos y flotantes)\n",
    "df.dtypes"
   ]
  },
  {
   "cell_type": "code",
   "execution_count": 9,
   "id": "2b6ba83a",
   "metadata": {},
   "outputs": [
    {
     "data": {
      "text/plain": [
       "pandas.core.frame.DataFrame"
      ]
     },
     "execution_count": 9,
     "metadata": {},
     "output_type": "execute_result"
    }
   ],
   "source": [
    "#verificamos estructura de dataset\n",
    "type(df)"
   ]
  },
  {
   "cell_type": "code",
   "execution_count": 10,
   "id": "b692f8a4",
   "metadata": {},
   "outputs": [
    {
     "name": "stdout",
     "output_type": "stream",
     "text": [
      "Index(['Year', 'Gender', 'Cohort', 'State', 'Drivers'], dtype='object')\n"
     ]
    }
   ],
   "source": [
    "#listado de columnas\n",
    "print(df.columns)"
   ]
  },
  {
   "cell_type": "code",
   "execution_count": 12,
   "id": "441ffca4",
   "metadata": {},
   "outputs": [],
   "source": [
    "# ELiminamos columnas con drop()\n",
    "\n",
    "df.drop(columns = 'Year',inplace = True)"
   ]
  },
  {
   "cell_type": "code",
   "execution_count": 13,
   "id": "e31c806a",
   "metadata": {},
   "outputs": [
    {
     "name": "stdout",
     "output_type": "stream",
     "text": [
      "(57834, 4)\n"
     ]
    }
   ],
   "source": [
    "#verificamos la eliminacion\n",
    "print(df.shape)"
   ]
  },
  {
   "cell_type": "code",
   "execution_count": 15,
   "id": "a95602d9",
   "metadata": {},
   "outputs": [
    {
     "name": "stdout",
     "output_type": "stream",
     "text": [
      "Gender     0\n",
      "Cohort     0\n",
      "State      0\n",
      "Drivers    1\n",
      "dtype: int64\n"
     ]
    }
   ],
   "source": [
    "#determinar cuantos valores faltan en columnas(da el resultado del valor missing en la columna drive como se \n",
    "#pudo ver en la funcion df.count())\n",
    "print(df.isna().sum())"
   ]
  },
  {
   "cell_type": "code",
   "execution_count": 16,
   "id": "9aa205e1",
   "metadata": {},
   "outputs": [
    {
     "name": "stdout",
     "output_type": "stream",
     "text": [
      "<class 'pandas.core.frame.DataFrame'>\n",
      "RangeIndex: 57834 entries, 0 to 57833\n",
      "Data columns (total 4 columns):\n",
      " #   Column   Non-Null Count  Dtype  \n",
      "---  ------   --------------  -----  \n",
      " 0   Gender   57834 non-null  object \n",
      " 1   Cohort   57834 non-null  object \n",
      " 2   State    57834 non-null  object \n",
      " 3   Drivers  57833 non-null  float64\n",
      "dtypes: float64(1), object(3)\n",
      "memory usage: 1.8+ MB\n"
     ]
    }
   ],
   "source": [
    "#funcion info\n",
    "df.info()"
   ]
  },
  {
   "cell_type": "code",
   "execution_count": 20,
   "id": "94a8cee6",
   "metadata": {},
   "outputs": [
    {
     "data": {
      "text/html": [
       "<div>\n",
       "<style scoped>\n",
       "    .dataframe tbody tr th:only-of-type {\n",
       "        vertical-align: middle;\n",
       "    }\n",
       "\n",
       "    .dataframe tbody tr th {\n",
       "        vertical-align: top;\n",
       "    }\n",
       "\n",
       "    .dataframe thead th {\n",
       "        text-align: right;\n",
       "    }\n",
       "</style>\n",
       "<table border=\"1\" class=\"dataframe\">\n",
       "  <thead>\n",
       "    <tr style=\"text-align: right;\">\n",
       "      <th></th>\n",
       "      <th>count</th>\n",
       "      <th>mean</th>\n",
       "      <th>std</th>\n",
       "      <th>min</th>\n",
       "      <th>25%</th>\n",
       "      <th>50%</th>\n",
       "      <th>75%</th>\n",
       "      <th>max</th>\n",
       "    </tr>\n",
       "  </thead>\n",
       "  <tbody>\n",
       "    <tr>\n",
       "      <th>Drivers</th>\n",
       "      <td>57833.0</td>\n",
       "      <td>87081.83314</td>\n",
       "      <td>141230.998091</td>\n",
       "      <td>0.0</td>\n",
       "      <td>14582.0</td>\n",
       "      <td>35584.0</td>\n",
       "      <td>97848.0</td>\n",
       "      <td>1417096.0</td>\n",
       "    </tr>\n",
       "  </tbody>\n",
       "</table>\n",
       "</div>"
      ],
      "text/plain": [
       "           count         mean            std  min      25%      50%      75%  \\\n",
       "Drivers  57833.0  87081.83314  141230.998091  0.0  14582.0  35584.0  97848.0   \n",
       "\n",
       "               max  \n",
       "Drivers  1417096.0  "
      ]
     },
     "execution_count": 20,
     "metadata": {},
     "output_type": "execute_result"
    }
   ],
   "source": [
    "#Analisis Exploratorio de Datos = EDA\n",
    "df.describe().T"
   ]
  },
  {
   "cell_type": "code",
   "execution_count": 21,
   "id": "026a6cc9",
   "metadata": {},
   "outputs": [],
   "source": [
    "#completar valores missings en este caso Drivers\n",
    "df.fillna({'Drivers':0},inplace = True)"
   ]
  },
  {
   "cell_type": "code",
   "execution_count": 22,
   "id": "ef0b04e3",
   "metadata": {},
   "outputs": [
    {
     "name": "stdout",
     "output_type": "stream",
     "text": [
      "Gender     0\n",
      "Cohort     0\n",
      "State      0\n",
      "Drivers    0\n",
      "dtype: int64\n"
     ]
    }
   ],
   "source": [
    "#veritifamos que ya no hay valores missings\n",
    "print(df.isna().sum())"
   ]
  },
  {
   "cell_type": "code",
   "execution_count": 30,
   "id": "87449c5a",
   "metadata": {},
   "outputs": [
    {
     "data": {
      "text/html": [
       "<div>\n",
       "<style scoped>\n",
       "    .dataframe tbody tr th:only-of-type {\n",
       "        vertical-align: middle;\n",
       "    }\n",
       "\n",
       "    .dataframe tbody tr th {\n",
       "        vertical-align: top;\n",
       "    }\n",
       "\n",
       "    .dataframe thead th {\n",
       "        text-align: right;\n",
       "    }\n",
       "</style>\n",
       "<table border=\"1\" class=\"dataframe\">\n",
       "  <thead>\n",
       "    <tr style=\"text-align: right;\">\n",
       "      <th></th>\n",
       "      <th>Gender</th>\n",
       "      <th>Cohort</th>\n",
       "      <th>State</th>\n",
       "      <th>Drivers</th>\n",
       "    </tr>\n",
       "  </thead>\n",
       "  <tbody>\n",
       "    <tr>\n",
       "      <th>32</th>\n",
       "      <td>Male</td>\n",
       "      <td>Under 16</td>\n",
       "      <td>New York</td>\n",
       "      <td>0.0</td>\n",
       "    </tr>\n",
       "    <tr>\n",
       "      <th>83</th>\n",
       "      <td>Male</td>\n",
       "      <td>16</td>\n",
       "      <td>New York</td>\n",
       "      <td>6125.0</td>\n",
       "    </tr>\n",
       "    <tr>\n",
       "      <th>134</th>\n",
       "      <td>Male</td>\n",
       "      <td>17</td>\n",
       "      <td>New York</td>\n",
       "      <td>35290.0</td>\n",
       "    </tr>\n",
       "    <tr>\n",
       "      <th>185</th>\n",
       "      <td>Male</td>\n",
       "      <td>18</td>\n",
       "      <td>New York</td>\n",
       "      <td>50261.0</td>\n",
       "    </tr>\n",
       "    <tr>\n",
       "      <th>236</th>\n",
       "      <td>Male</td>\n",
       "      <td>19</td>\n",
       "      <td>New York</td>\n",
       "      <td>60140.0</td>\n",
       "    </tr>\n",
       "    <tr>\n",
       "      <th>...</th>\n",
       "      <td>...</td>\n",
       "      <td>...</td>\n",
       "      <td>...</td>\n",
       "      <td>...</td>\n",
       "    </tr>\n",
       "    <tr>\n",
       "      <th>57001</th>\n",
       "      <td>Female</td>\n",
       "      <td>65-69</td>\n",
       "      <td>New York</td>\n",
       "      <td>437104.0</td>\n",
       "    </tr>\n",
       "    <tr>\n",
       "      <th>57002</th>\n",
       "      <td>Female</td>\n",
       "      <td>70-74</td>\n",
       "      <td>New York</td>\n",
       "      <td>332561.0</td>\n",
       "    </tr>\n",
       "    <tr>\n",
       "      <th>57003</th>\n",
       "      <td>Female</td>\n",
       "      <td>75-79</td>\n",
       "      <td>New York</td>\n",
       "      <td>224082.0</td>\n",
       "    </tr>\n",
       "    <tr>\n",
       "      <th>57004</th>\n",
       "      <td>Female</td>\n",
       "      <td>80-84</td>\n",
       "      <td>New York</td>\n",
       "      <td>151208.0</td>\n",
       "    </tr>\n",
       "    <tr>\n",
       "      <th>57005</th>\n",
       "      <td>Female</td>\n",
       "      <td>85+</td>\n",
       "      <td>New York</td>\n",
       "      <td>167547.0</td>\n",
       "    </tr>\n",
       "  </tbody>\n",
       "</table>\n",
       "<p>1134 rows × 4 columns</p>\n",
       "</div>"
      ],
      "text/plain": [
       "       Gender    Cohort     State   Drivers\n",
       "32       Male  Under 16  New York       0.0\n",
       "83       Male        16  New York    6125.0\n",
       "134      Male        17  New York   35290.0\n",
       "185      Male        18  New York   50261.0\n",
       "236      Male        19  New York   60140.0\n",
       "...       ...       ...       ...       ...\n",
       "57001  Female     65-69  New York  437104.0\n",
       "57002  Female     70-74  New York  332561.0\n",
       "57003  Female     75-79  New York  224082.0\n",
       "57004  Female     80-84  New York  151208.0\n",
       "57005  Female       85+  New York  167547.0\n",
       "\n",
       "[1134 rows x 4 columns]"
      ]
     },
     "execution_count": 30,
     "metadata": {},
     "output_type": "execute_result"
    }
   ],
   "source": [
    "#verificar estados Nueva York\n",
    "df[df['State']==\"New York\"] "
   ]
  },
  {
   "cell_type": "code",
   "execution_count": 31,
   "id": "33486b0a",
   "metadata": {},
   "outputs": [
    {
     "data": {
      "text/plain": [
       "Alabama           1134\n",
       "Pennsylvania      1134\n",
       "Nevada            1134\n",
       "New Hampshire     1134\n",
       "New Jersey        1134\n",
       "New Mexico        1134\n",
       "New York          1134\n",
       "North Carolina    1134\n",
       "North Dakota      1134\n",
       "Ohio              1134\n",
       "Name: State, dtype: int64"
      ]
     },
     "execution_count": 31,
     "metadata": {},
     "output_type": "execute_result"
    }
   ],
   "source": [
    "df['State'].value_counts().head(10)"
   ]
  },
  {
   "cell_type": "code",
   "execution_count": 7,
   "id": "446d04da",
   "metadata": {},
   "outputs": [
    {
     "data": {
      "text/plain": [
       "<Axes: >"
      ]
     },
     "execution_count": 7,
     "metadata": {},
     "output_type": "execute_result"
    },
    {
     "data": {
      "image/png": "[encoded data removed]",
      "text/plain": [
       "<Figure size 640x480 with 1 Axes>"
      ]
     },
     "metadata": {},
     "output_type": "display_data"
    }
   ],
   "source": [
    "df['State'].value_counts().head(10).plot(kind=\"bar\")"
   ]
  }
 ],
 "metadata": {
  "kernelspec": {
   "display_name": "Python 3 (ipykernel)",
   "language": "python",
   "name": "python3"
  },
  "language_info": {
   "codemirror_mode": {
    "name": "ipython",
    "version": 3
   },
   "file_extension": ".py",
   "mimetype": "text/x-python",
   "name": "python",
   "nbconvert_exporter": "python",
   "pygments_lexer": "ipython3",
   "version": "3.11.3"
  }
 },
 "nbformat": 4,
 "nbformat_minor": 5
}
